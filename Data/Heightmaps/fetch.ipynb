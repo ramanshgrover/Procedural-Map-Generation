{
 "cells": [
  {
   "cell_type": "code",
   "execution_count": 1,
   "metadata": {},
   "outputs": [],
   "source": [
    "import pyautogui as auto\n",
    "import mss\n",
    "import mss.tools\n",
    "import time"
   ]
  },
  {
   "cell_type": "code",
   "execution_count": 2,
   "metadata": {},
   "outputs": [],
   "source": [
    "def map_fetch(limit, map_type, overhead, top, left, width, height, x, y):\n",
    "    auto.click(x = x, y = y)\n",
    "    for count in range(limit):\n",
    "        auto.hotkey('f2')\n",
    "        time.sleep(overhead)\n",
    "        with mss.mss() as sct:\n",
    "            region = {'top': top, 'left': left, 'width': width, 'height': height}\n",
    "            img = sct.grab(region)\n",
    "            output = map_type+'_'+str(count+1)+'.png'\n",
    "            mss.tools.to_png(img.rgb, img.size, output = output)"
   ]
  },
  {
   "cell_type": "code",
   "execution_count": 3,
   "metadata": {},
   "outputs": [],
   "source": [
    "# Adjust parameters manually.\n",
    "map_fetch(limit = 1, \n",
    "          map_type = 'hmap', \n",
    "          overhead = 2.5,\n",
    "          top = 112, left = 0,\n",
    "          width = 1439, height = 789,\n",
    "          x = 105, y = 30)"
   ]
  },
  {
   "cell_type": "code",
   "execution_count": null,
   "metadata": {},
   "outputs": [],
   "source": []
  }
 ],
 "metadata": {
  "kernelspec": {
   "display_name": "Python 3",
   "language": "python",
   "name": "python3"
  },
  "language_info": {
   "codemirror_mode": {
    "name": "ipython",
    "version": 3
   },
   "file_extension": ".py",
   "mimetype": "text/x-python",
   "name": "python",
   "nbconvert_exporter": "python",
   "pygments_lexer": "ipython3",
   "version": "3.6.8"
  }
 },
 "nbformat": 4,
 "nbformat_minor": 2
}
