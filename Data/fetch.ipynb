{
 "cells": [
  {
   "cell_type": "code",
   "execution_count": 1,
   "metadata": {},
   "outputs": [],
   "source": [
    "# !pip install PyAutoGUI mss"
   ]
  },
  {
   "cell_type": "code",
   "execution_count": 2,
   "metadata": {},
   "outputs": [],
   "source": [
    "import pyautogui as auto\n",
    "import mss\n",
    "import time"
   ]
  },
  {
   "cell_type": "code",
   "execution_count": 3,
   "metadata": {},
   "outputs": [],
   "source": [
    "def fetch_maps(limit, overhead, top, left, width, height, x, y):\n",
    "    auto.click(x = x, y = y)\n",
    "    for count in range(1, limit+1):\n",
    "        auto.hotkey('f2')\n",
    "        time.sleep(overhead)\n",
    "        with mss.mss() as sct:\n",
    "            region = {'top': top, 'left': left, 'width': width, 'height': height}\n",
    "            img = sct.grab(region)\n",
    "            output = 'Maps/Height/hmap_{}.png'.format(count)\n",
    "            mss.tools.to_png(img.rgb, img.size, output = output)\n",
    "        auto.press('h')\n",
    "        auto.press('x', interval = 0.25)\n",
    "        with mss.mss() as sct:\n",
    "            region = {'top': top, 'left': left, 'width': width, 'height': height}\n",
    "            img = sct.grab(region)\n",
    "            output = 'Maps/Texture/tmap_{}.png'.format(count)\n",
    "            mss.tools.to_png(img.rgb, img.size, output = output)\n",
    "        auto.press('x')\n",
    "        auto.press('h')\n",
    "        print(\"{} pair of maps saved\".format(count))"
   ]
  },
  {
   "cell_type": "code",
   "execution_count": 4,
   "metadata": {},
   "outputs": [
    {
     "name": "stdout",
     "output_type": "stream",
     "text": [
      "1 pair of maps saved\n",
      "2 pair of maps saved\n",
      "3 pair of maps saved\n"
     ]
    }
   ],
   "source": [
    "# Adjust parameters manually.\n",
    "fetch_maps(limit = 3,  \n",
    "          overhead = 2.5,\n",
    "          top = 112, left = 0,\n",
    "          width = 1439, height = 789,\n",
    "          x = 105, y = 30)"
   ]
  },
  {
   "cell_type": "code",
   "execution_count": null,
   "metadata": {},
   "outputs": [],
   "source": []
  }
 ],
 "metadata": {
  "kernelspec": {
   "display_name": "Python 3",
   "language": "python",
   "name": "python3"
  },
  "language_info": {
   "codemirror_mode": {
    "name": "ipython",
    "version": 3
   },
   "file_extension": ".py",
   "mimetype": "text/x-python",
   "name": "python",
   "nbconvert_exporter": "python",
   "pygments_lexer": "ipython3",
   "version": "3.6.8"
  }
 },
 "nbformat": 4,
 "nbformat_minor": 2
}
